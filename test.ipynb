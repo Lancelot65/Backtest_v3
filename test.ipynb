{
 "cells": [
  {
   "cell_type": "code",
   "execution_count": 39,
   "metadata": {},
   "outputs": [],
   "source": [
    "import numpy as np\n",
    "import matplotlib.pyplot as plt\n",
    "import pandas as pd\n",
    "from mplfinance.original_flavor import candlestick_ohlc\n",
    "from matplotlib.widgets import Slider"
   ]
  },
  {
   "cell_type": "code",
   "execution_count": 43,
   "metadata": {},
   "outputs": [],
   "source": [
    "data.timestamp = pd.to_datetime(data.timestamp, unit='ms').apply(date2num)\n",
    "\n",
    "fig, ax = plt.subplots()\n",
    "\n",
    "      \n",
    "candlestick_ohlc(ax, data.values, colorup='g', colordown='r', width=0.00002, alpha=0.9)\n",
    "\n",
    " \n",
    "plt.show()"
   ]
  },
  {
   "cell_type": "code",
   "execution_count": 25,
   "metadata": {},
   "outputs": [],
   "source": [
    "from ccxt import binance \n",
    "import sys\n",
    "sys.path.append('../trad/Ohlcvplus')\n",
    "from ohlcv import OhlcvPlus\n",
    "from matplotlib.dates import date2num, DateFormatter"
   ]
  },
  {
   "cell_type": "code",
   "execution_count": 32,
   "metadata": {},
   "outputs": [],
   "source": [
    "data = None\n",
    "def charger_data():\n",
    "    global data\n",
    "    ohlcvp = OhlcvPlus(binance())\n",
    "    data = ohlcvp.load(market='BTC/USDT', limit=500, timeframe='1h', since='2023-01-01 00:00:00')\n"
   ]
  },
  {
   "cell_type": "code",
   "execution_count": 34,
   "metadata": {},
   "outputs": [
    {
     "name": "stdout",
     "output_type": "stream",
     "text": [
      "\u001b[36m Dataframe found in the database, loading it. \u001b[39m\n"
     ]
    }
   ],
   "source": [
    "charger_data()"
   ]
  },
  {
   "cell_type": "code",
   "execution_count": 3,
   "metadata": {},
   "outputs": [],
   "source": [
    "test = {'a' : [1], 'b' : [2]}"
   ]
  },
  {
   "cell_type": "code",
   "execution_count": 4,
   "metadata": {},
   "outputs": [],
   "source": [
    "test['e'] = [2, 6, 8]"
   ]
  },
  {
   "cell_type": "code",
   "execution_count": 5,
   "metadata": {},
   "outputs": [
    {
     "name": "stdout",
     "output_type": "stream",
     "text": [
      "True\n"
     ]
    }
   ],
   "source": [
    "if 'a' in test:print(True)"
   ]
  }
 ],
 "metadata": {
  "kernelspec": {
   "display_name": "Python 3",
   "language": "python",
   "name": "python3"
  },
  "language_info": {
   "codemirror_mode": {
    "name": "ipython",
    "version": 3
   },
   "file_extension": ".py",
   "mimetype": "text/x-python",
   "name": "python",
   "nbconvert_exporter": "python",
   "pygments_lexer": "ipython3",
   "version": "3.10.11"
  },
  "orig_nbformat": 4
 },
 "nbformat": 4,
 "nbformat_minor": 2
}
